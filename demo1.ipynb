{
 "cells": [
  {
   "cell_type": "code",
   "execution_count": null,
   "id": "33e76b81-4788-4fd6-af5d-390cb6230c34",
   "metadata": {},
   "outputs": [],
   "source": [
    "import pypowsybl as pp\n",
    "\n",
    "n = pp.network.create_ieee14()\n"
   ]
  },
  {
   "cell_type": "code",
   "execution_count": null,
   "id": "cc95c845-52cd-49d0-82bf-d4414f135516",
   "metadata": {},
   "outputs": [],
   "source": []
  }
 ],
 "metadata": {
  "kernelspec": {
   "display_name": "Python 3 (ipykernel)",
   "language": "python",
   "name": "python3"
  },
  "language_info": {
   "codemirror_mode": {
    "name": "ipython",
    "version": 3
   },
   "file_extension": ".py",
   "mimetype": "text/x-python",
   "name": "python",
   "nbconvert_exporter": "python",
   "pygments_lexer": "ipython3",
   "version": "3.12.3"
  }
 },
 "nbformat": 4,
 "nbformat_minor": 5
}
